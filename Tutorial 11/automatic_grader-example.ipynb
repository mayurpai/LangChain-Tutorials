{
 "cells": [
  {
   "cell_type": "markdown",
   "id": "30cb081b-c76c-4267-a9d4-d88c0b2fc47c",
   "metadata": {},
   "source": [
    "### import libraries"
   ]
  },
  {
   "cell_type": "code",
   "execution_count": 23,
   "id": "1753887c-51bf-4192-a984-db70ca4df17c",
   "metadata": {},
   "outputs": [],
   "source": [
    "from langchain.chat_models import ChatOpenAI\n",
    "from langchain.prompts import PromptTemplate\n",
    "from langchain.chains import LLMChain\n",
    "from langchain.schema import BaseOutputParser\n",
    "from dotenv import load_dotenv\n",
    "from langchain import HuggingFaceHub\n",
    "from langchain_google_genai import ChatGoogleGenerativeAI"
   ]
  },
  {
   "cell_type": "code",
   "execution_count": 24,
   "id": "8b29b119-428b-4ac7-87f6-52c29bf96d5e",
   "metadata": {},
   "outputs": [
    {
     "data": {
      "text/plain": [
       "True"
      ]
     },
     "execution_count": 24,
     "metadata": {},
     "output_type": "execute_result"
    }
   ],
   "source": [
    "load_dotenv()"
   ]
  },
  {
   "cell_type": "markdown",
   "id": "88fe78d4-aa30-437f-a2ad-c0b409458fb1",
   "metadata": {},
   "source": [
    "### define chain"
   ]
  },
  {
   "cell_type": "code",
   "execution_count": 25,
   "id": "c2e30879-75ac-4a56-8823-ac909612e8da",
   "metadata": {},
   "outputs": [],
   "source": [
    "# define chatbot\n",
    "chat_model = ChatGoogleGenerativeAI(model=\"gemini-pro\",\n",
    "                                   temperature=0.3)\n",
    "# chat_model = HuggingFaceHub(\n",
    "#     repo_id=\"google/flan-t5-large\",  model_kwargs={\"temperature\": 0, \"max_length\": 64})"
   ]
  },
  {
   "cell_type": "code",
   "execution_count": 26,
   "id": "64d0d947-54da-4c22-a27a-19196b30d2b0",
   "metadata": {},
   "outputs": [],
   "source": [
    "# define prompt template\n",
    "prompt_template_text = \"\"\"You are a high school history teacher grading homework assignments. \\\n",
    "Based on the homework question indicated by “**Q:**” and the correct answer indicated by “**A:**”, your task is to determine whether the student's answer is correct. \\\n",
    "Grading is binary; therefore, student answers can be correct or wrong. \\\n",
    "Simple misspellings are okay.\n",
    "\n",
    "**Q:** {question}\n",
    "**A:** {correct_answer}\n",
    "\n",
    "**Student's Answer:** {student_answer}\n",
    "\"\"\"\n",
    "\n",
    "prompt = PromptTemplate(input_variables=[\"question\", \"correct_answer\", \"student_answer\"], template = prompt_template_text)"
   ]
  },
  {
   "cell_type": "code",
   "execution_count": 27,
   "id": "0ffaf863-dc3e-4208-be89-d53d3a3bb630",
   "metadata": {},
   "outputs": [],
   "source": [
    "# define chain\n",
    "chain = LLMChain(\n",
    "    llm=chat_model,\n",
    "    prompt=prompt,\n",
    ")"
   ]
  },
  {
   "cell_type": "markdown",
   "id": "36f7149c-c422-404e-b93a-5ccb8d399b14",
   "metadata": {},
   "source": [
    "### use chain"
   ]
  },
  {
   "cell_type": "code",
   "execution_count": 28,
   "id": "fcdfcc60-2b3f-4a43-8ba1-a8e7b855f981",
   "metadata": {},
   "outputs": [
    {
     "data": {
      "text/plain": [
       "'Correct'"
      ]
     },
     "execution_count": 28,
     "metadata": {},
     "output_type": "execute_result"
    }
   ],
   "source": [
    "# define inputs\n",
    "question = \"Who was the 35th president of the United States of America?\"\n",
    "correct_answer = \"John F. Kennedy\"\n",
    "student_answer =  \"JFK\"\n",
    "\n",
    "# run chain\n",
    "chain.run({'question':question, 'correct_answer':correct_answer, 'student_answer':student_answer})"
   ]
  },
  {
   "cell_type": "code",
   "execution_count": 29,
   "id": "ac2cb76c-8960-48fd-874a-8d06cb52457a",
   "metadata": {},
   "outputs": [
    {
     "name": "stdout",
     "output_type": "stream",
     "text": [
      "John F. Kennedy - Correct\n",
      "Mayur - Wrong\n",
      "FDR - Wrong\n",
      "John F. Kenedy - Correct\n",
      "John Kennedy - Correct\n",
      "Jack Kennedy - Correct\n",
      "Jacqueline Kennedy - Wrong\n",
      "Robert F. Kenedy - Wrong\n"
     ]
    }
   ],
   "source": [
    "# run chain in for loop\n",
    "student_answer_list = [\"John F. Kennedy\", \"Mayur\", \"FDR\", \"John F. Kenedy\", \"John Kennedy\", \"Jack Kennedy\", \"Jacqueline Kennedy\", \"Robert F. Kenedy\"]\n",
    "\n",
    "for student_answer in student_answer_list:\n",
    "    print(student_answer + \" - \" + str(chain.run({'question':question, 'correct_answer':correct_answer, 'student_answer':student_answer})))"
   ]
  },
  {
   "cell_type": "markdown",
   "id": "f78a91e4-5be0-490c-95bc-bf8a3792c1d9",
   "metadata": {},
   "source": [
    "### add output parser"
   ]
  },
  {
   "cell_type": "code",
   "execution_count": 33,
   "id": "ecb2dc7d-74c0-400d-a35f-358f047c9bee",
   "metadata": {},
   "outputs": [],
   "source": [
    "# define output parser\n",
    "class GradeOutputParser(BaseOutputParser):\n",
    "    \"\"\"Determine whether grade was correct or wrong\"\"\"\n",
    "\n",
    "    def parse(self, text: str):\n",
    "        \"\"\"Parse the output of an LLM call.\"\"\"\n",
    "        return \"wrong\" not in text.lower()"
   ]
  },
  {
   "cell_type": "code",
   "execution_count": 34,
   "id": "13c0ee88-0b77-4c1d-8264-34d197193ea3",
   "metadata": {},
   "outputs": [],
   "source": [
    "# update chain\n",
    "chain = LLMChain(\n",
    "    llm=chat_model,\n",
    "    prompt=prompt,\n",
    "    output_parser=GradeOutputParser()\n",
    ")"
   ]
  },
  {
   "cell_type": "code",
   "execution_count": 35,
   "id": "ec9f79a2-0b8e-4cc0-bc10-9062a3d0ba3d",
   "metadata": {},
   "outputs": [
    {
     "name": "stdout",
     "output_type": "stream",
     "text": [
      "John F. Kennedy - True\n",
      "Mayur - False\n",
      "FDR - False\n",
      "John F. Kenedy - False\n",
      "John Kennedy - True\n",
      "Jack Kennedy - True\n",
      "Jacqueline Kennedy - False\n",
      "Robert F. Kenedy - False\n"
     ]
    }
   ],
   "source": [
    "# grade student answers\n",
    "for student_answer in student_answer_list:\n",
    "    print(student_answer + \" - \" + str(chain.run({'question':question, 'correct_answer':correct_answer, 'student_answer':student_answer})))"
   ]
  },
  {
   "cell_type": "code",
   "execution_count": null,
   "id": "1ec68bbb",
   "metadata": {},
   "outputs": [],
   "source": []
  }
 ],
 "metadata": {
  "kernelspec": {
   "display_name": "Python 3 (ipykernel)",
   "language": "python",
   "name": "python3"
  },
  "language_info": {
   "codemirror_mode": {
    "name": "ipython",
    "version": 3
   },
   "file_extension": ".py",
   "mimetype": "text/x-python",
   "name": "python",
   "nbconvert_exporter": "python",
   "pygments_lexer": "ipython3",
   "version": "3.11.1"
  }
 },
 "nbformat": 4,
 "nbformat_minor": 5
}
